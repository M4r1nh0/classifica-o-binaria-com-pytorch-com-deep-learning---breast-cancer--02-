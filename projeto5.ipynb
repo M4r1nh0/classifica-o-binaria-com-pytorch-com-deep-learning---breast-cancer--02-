{
  "nbformat": 4,
  "nbformat_minor": 0,
  "metadata": {
    "colab": {
      "name": "projeto5.ipynb",
      "provenance": [],
      "authorship_tag": "ABX9TyO6jfhUre6HpckbSxOWNeOc",
      "include_colab_link": true
    },
    "kernelspec": {
      "name": "python3",
      "display_name": "Python 3"
    }
  },
  "cells": [
    {
      "cell_type": "markdown",
      "metadata": {
        "id": "view-in-github",
        "colab_type": "text"
      },
      "source": [
        "<a href=\"https://colab.research.google.com/github/M4r1nh0/classifica-o-binaria-com-pytorch-com-deep-learning---breast-cancer--02-/blob/master/projeto5.ipynb\" target=\"_parent\"><img src=\"https://colab.research.google.com/assets/colab-badge.svg\" alt=\"Open In Colab\"/></a>"
      ]
    },
    {
      "cell_type": "code",
      "metadata": {
        "id": "8LOPnolneZM1",
        "colab_type": "code",
        "colab": {
          "base_uri": "https://localhost:8080/",
          "height": 190
        },
        "outputId": "7182a7e0-40f5-4b72-efd7-1cc7fb74aa33"
      },
      "source": [
        "!pip install 'torch==1.4.0'"
      ],
      "execution_count": null,
      "outputs": [
        {
          "output_type": "stream",
          "text": [
            "Collecting torch==1.4.0\n",
            "\u001b[?25l  Downloading https://files.pythonhosted.org/packages/24/19/4804aea17cd136f1705a5e98a00618cb8f6ccc375ad8bfa437408e09d058/torch-1.4.0-cp36-cp36m-manylinux1_x86_64.whl (753.4MB)\n",
            "\u001b[K     |████████████████████████████████| 753.4MB 18kB/s \n",
            "\u001b[31mERROR: torchvision 0.7.0+cu101 has requirement torch==1.6.0, but you'll have torch 1.4.0 which is incompatible.\u001b[0m\n",
            "\u001b[?25hInstalling collected packages: torch\n",
            "  Found existing installation: torch 1.6.0+cu101\n",
            "    Uninstalling torch-1.6.0+cu101:\n",
            "      Successfully uninstalled torch-1.6.0+cu101\n",
            "Successfully installed torch-1.4.0\n"
          ],
          "name": "stdout"
        }
      ]
    },
    {
      "cell_type": "code",
      "metadata": {
        "id": "ySS4S53Zee-n",
        "colab_type": "code",
        "colab": {
          "base_uri": "https://localhost:8080/",
          "height": 35
        },
        "outputId": "a552484f-3d0b-425a-b703-48e54e1c69cf"
      },
      "source": [
        "import torch\n",
        "import torch.nn as nn\n",
        "torch.__version__"
      ],
      "execution_count": null,
      "outputs": [
        {
          "output_type": "execute_result",
          "data": {
            "application/vnd.google.colaboratory.intrinsic+json": {
              "type": "string"
            },
            "text/plain": [
              "'1.4.0'"
            ]
          },
          "metadata": {
            "tags": []
          },
          "execution_count": 2
        }
      ]
    },
    {
      "cell_type": "code",
      "metadata": {
        "id": "QsBLt7cPekAN",
        "colab_type": "code",
        "colab": {}
      },
      "source": [
        "import pandas as pd\n",
        "import numpy as np\n",
        "import torch.nn.functional as F\n",
        "from sklearn.metrics import accuracy_score\n"
      ],
      "execution_count": null,
      "outputs": []
    },
    {
      "cell_type": "code",
      "metadata": {
        "id": "R8cmALe4e43-",
        "colab_type": "code",
        "colab": {
          "base_uri": "https://localhost:8080/",
          "height": 34
        },
        "outputId": "8889d7db-7dd2-43fa-b96c-f60d14b4e119"
      },
      "source": [
        "np.random.seed(123)\n",
        "torch.manual_seed(123)"
      ],
      "execution_count": null,
      "outputs": [
        {
          "output_type": "execute_result",
          "data": {
            "text/plain": [
              "<torch._C.Generator at 0x7fcf24ea8150>"
            ]
          },
          "metadata": {
            "tags": []
          },
          "execution_count": 4
        }
      ]
    },
    {
      "cell_type": "code",
      "metadata": {
        "id": "LmAf1nVme_kV",
        "colab_type": "code",
        "colab": {}
      },
      "source": [
        "class classificador_torch(nn.Module):\n",
        "  def __init__(self):\n",
        "    super().__init__()\n",
        "    self.dense0 = nn.Linear(30, 8)\n",
        "    torch.nn.init.normal_(self.dense0.weight, mean=0.0, std=0.5)\n",
        "    self.dense1 = nn.Linear(8, 8)\n",
        "    torch.nn.init.normal_(self.dense1.weight, mean=0.0, std=0.5)\n",
        "    self.dense2 = nn.Linear(8, 1)\n",
        "    self.activation = nn.ReLU()\n",
        "    self.dropout = nn.Dropout(0.2)\n",
        "    self.output = nn.Sigmoid()\n",
        "\n",
        "  def forward(self, X):\n",
        "    X = self.dense0(X)\n",
        "    X = self.activation(X)\n",
        "    X = self.dropout(X)\n",
        "    X = self.dense1(X)\n",
        "    X = self.activation(X)\n",
        "    X = self.dropout(X)\n",
        "    X = self.dense2(X)\n",
        "    X = self.output(X)\n",
        "    return X\n"
      ],
      "execution_count": null,
      "outputs": []
    },
    {
      "cell_type": "code",
      "metadata": {
        "id": "gkX99n6JggOS",
        "colab_type": "code",
        "colab": {}
      },
      "source": [
        "classificador = classificador_torch()"
      ],
      "execution_count": null,
      "outputs": []
    },
    {
      "cell_type": "code",
      "metadata": {
        "id": "u0EHhXUdgjDw",
        "colab_type": "code",
        "colab": {}
      },
      "source": [
        "state_dict = torch.load('/content/checkpoint (1).pth')"
      ],
      "execution_count": null,
      "outputs": []
    },
    {
      "cell_type": "code",
      "metadata": {
        "id": "0El6lOUwhXQz",
        "colab_type": "code",
        "colab": {
          "base_uri": "https://localhost:8080/",
          "height": 1000
        },
        "outputId": "34575d97-1bb6-4cd2-a9ba-488b86867187"
      },
      "source": [
        "state_dict"
      ],
      "execution_count": null,
      "outputs": [
        {
          "output_type": "execute_result",
          "data": {
            "text/plain": [
              "OrderedDict([('dense0.weight',\n",
              "              tensor([[-9.5399e-01,  5.0276e-01,  7.9644e-01,  3.0661e-01,  5.7747e-01,\n",
              "                       -2.1210e-01,  1.0039e-01,  4.5799e-01, -6.1248e-01,  5.3102e-01,\n",
              "                       -2.6070e-01, -9.7058e-02,  8.8793e-01, -9.0941e-02, -7.4881e-05,\n",
              "                       -1.1193e-01, -5.5757e-04, -3.4775e-05, -1.4898e-02, -1.0758e-07,\n",
              "                       -6.2589e-01, -2.3588e-01, -1.6525e-02,  7.3659e-01, -7.3633e-01,\n",
              "                        6.1362e-01,  5.5634e-01,  1.8103e-01,  6.2705e-01,  4.9417e-01],\n",
              "                      [ 5.2209e-01,  3.0962e-01,  9.1058e-01, -1.1141e-02,  7.4908e-03,\n",
              "                        2.5305e-03,  2.2596e-01, -5.9632e-01, -3.5600e-01, -1.0434e-02,\n",
              "                        5.1165e-01,  2.2529e-01, -8.4551e-01,  3.9808e-01, -2.3326e-07,\n",
              "                        3.1248e-02,  7.9267e-04,  6.1902e-06,  3.2254e-02, -6.6710e-08,\n",
              "                       -8.3435e-01,  6.1840e-01, -1.4277e-01, -8.3648e-02, -1.1169e+00,\n",
              "                       -2.3251e-01,  4.2686e-01, -4.8782e-01,  2.6465e-01,  3.3227e-01],\n",
              "                      [ 3.3655e-01, -9.3540e-01, -3.0634e-01, -8.1201e-01,  1.6350e-01,\n",
              "                       -3.9700e-01,  1.4491e-01, -2.3599e-02,  4.1553e-02,  3.1842e-01,\n",
              "                       -1.1110e-01, -4.1023e-01,  1.4870e-01,  1.1507e+00, -1.1752e-03,\n",
              "                       -1.2830e-02, -6.0155e-02, -6.7974e-03, -2.9556e-01, -3.4886e-06,\n",
              "                       -9.0068e-03, -1.1740e-02,  4.6696e-01, -2.9704e-01, -5.3223e-01,\n",
              "                        2.6689e-01, -9.6295e-02,  4.1338e-01,  1.7475e-01,  5.1126e-01],\n",
              "                      [-2.1778e-01, -4.0178e-01,  1.3651e-01, -1.0593e+00,  5.2872e-03,\n",
              "                        4.5277e-03,  2.5085e-03, -5.9469e-02, -4.2713e-01,  2.2844e-01,\n",
              "                        9.8453e-02,  4.6434e-01, -8.8801e-01, -4.9062e-01,  1.4652e-07,\n",
              "                       -2.9912e-02,  1.0113e-03, -9.3625e-06,  6.6927e-01,  2.0862e-08,\n",
              "                       -8.2980e-01, -4.7726e-02,  3.3161e-01,  9.0924e-01,  1.9887e-01,\n",
              "                       -4.5170e-01,  5.0520e-01,  4.4438e-01,  1.9044e-01, -7.8912e-01],\n",
              "                      [-1.0137e+00,  4.2781e-01, -3.3310e-01,  4.7855e-01, -1.9363e-03,\n",
              "                       -2.5271e-02,  1.8604e-02,  3.6626e-04,  6.2587e-01,  1.9627e-01,\n",
              "                        6.1094e-02,  1.8529e-01, -7.4342e-01, -5.0714e-01, -5.4925e-20,\n",
              "                        3.2250e-06,  4.1001e-05,  3.3414e-09,  2.6763e-02,  3.2539e-22,\n",
              "                       -3.6662e-03, -6.6605e-01, -7.7261e-01,  2.8762e-01,  3.3116e-01,\n",
              "                        2.3190e-01,  5.8557e-01,  2.3918e-01, -4.1578e-02, -2.0287e-03],\n",
              "                      [ 3.7013e-01,  1.0441e-02, -8.7330e-02,  4.6778e-01,  3.4074e-01,\n",
              "                       -2.3783e-02,  1.4398e-01, -9.5352e-02,  3.0079e-02,  3.0790e-01,\n",
              "                       -7.2030e-02, -8.6410e-02, -7.6751e-01,  3.5458e-01, -1.1088e-08,\n",
              "                       -6.2801e-04, -2.3203e-03, -1.0011e-05, -1.4001e-04, -1.5214e-08,\n",
              "                       -3.0337e-01, -5.3138e-01, -2.5078e-01, -9.7010e-02, -1.5537e-01,\n",
              "                        2.1620e-01,  3.3693e-03, -4.3304e-02,  8.9232e-02,  1.3282e-02],\n",
              "                      [-3.2518e-01, -5.9118e-01,  2.5184e-01,  5.0552e-01,  5.3399e-02,\n",
              "                        1.7354e-01,  8.1067e-01, -1.0925e+00,  1.8133e-01,  4.9621e-01,\n",
              "                       -1.8395e-01,  4.8120e-01,  8.0297e-01, -7.2268e-01,  8.1377e-09,\n",
              "                        6.6594e-02, -1.0265e-03,  2.2755e-06, -8.4748e-02, -1.6180e-13,\n",
              "                        6.8908e-01, -7.9493e-01,  3.2743e-01,  1.1840e-01, -6.1477e-01,\n",
              "                       -1.8862e-01, -3.2882e-01, -1.8030e-01,  4.6524e-01, -1.1453e+00],\n",
              "                      [ 1.7836e-01,  1.0363e+00,  6.7293e-01, -3.0052e-02,  4.7711e-01,\n",
              "                       -1.7759e-01, -7.4679e-02,  1.2480e-01, -1.4566e-01, -5.0928e-01,\n",
              "                        6.0040e-01, -1.6122e-01,  1.8082e-01,  3.2793e-01,  1.7744e-04,\n",
              "                        3.1104e-02,  4.2356e-04,  2.3541e-04,  6.3189e-02,  8.3978e-06,\n",
              "                        4.1881e-01,  2.8870e-02,  1.1586e-01, -7.9314e-02,  1.1002e-01,\n",
              "                       -5.6714e-02,  2.9675e-02,  2.7142e-01,  6.7183e-02, -7.9094e-01]])),\n",
              "             ('dense0.bias',\n",
              "              tensor([ 0.0071,  0.0256, -0.2590, -0.0503,  0.1106,  0.1466, -0.0233, -0.1387])),\n",
              "             ('dense1.weight',\n",
              "              tensor([[-4.4259e-02,  2.8272e-01,  1.8232e-01,  2.9980e-01, -5.0693e-01,\n",
              "                       -4.3517e-02,  6.6593e-01, -1.2756e+00],\n",
              "                      [-2.7770e-01, -8.1736e-01,  1.1592e-01, -1.1604e-01, -2.7823e-01,\n",
              "                        6.9638e-02,  1.0819e+00, -1.0830e+00],\n",
              "                      [ 4.9884e-01, -3.9121e-01,  3.1009e-01,  2.3134e-01,  4.0505e-02,\n",
              "                       -1.0250e+00, -4.4908e-01, -1.8006e-01],\n",
              "                      [ 6.1657e-01, -4.3289e-01, -1.0398e-02, -4.3169e-01,  8.2514e-05,\n",
              "                       -3.9600e-02, -4.4148e-01,  9.9339e-02],\n",
              "                      [ 1.8066e-01,  4.7966e-01, -3.4800e-01, -3.9011e-01,  7.9571e-01,\n",
              "                        7.8245e-01, -1.0427e-01,  4.4784e-01],\n",
              "                      [ 3.8093e-01,  1.3288e-01, -3.7136e-01,  1.8854e-02,  1.1042e-01,\n",
              "                        3.2432e-02, -2.6375e-01, -1.0285e+00],\n",
              "                      [-1.3167e-01,  2.1483e-01,  1.4606e-01, -1.1325e-01, -8.4724e-02,\n",
              "                        5.6479e-01, -7.3253e-02,  1.3934e-01],\n",
              "                      [ 3.5239e-01, -4.1793e-01, -3.7968e-02, -3.4929e-01,  6.5664e-02,\n",
              "                        2.4209e-01,  3.7439e-01,  2.0721e-01]])),\n",
              "             ('dense1.bias',\n",
              "              tensor([ 0.0200,  0.1029, -0.5055,  0.0133,  0.3084,  0.2911,  0.1514,  0.1326])),\n",
              "             ('dense2.weight',\n",
              "              tensor([[ 0.0273,  0.3267, -0.0494,  0.0607,  0.4028,  0.4018,  0.2388,  0.2561]])),\n",
              "             ('dense2.bias', tensor([0.4070]))])"
            ]
          },
          "metadata": {
            "tags": []
          },
          "execution_count": 37
        }
      ]
    },
    {
      "cell_type": "code",
      "metadata": {
        "id": "PDeJrJCvhYe5",
        "colab_type": "code",
        "colab": {
          "base_uri": "https://localhost:8080/",
          "height": 34
        },
        "outputId": "b012852a-8a02-41e8-9af7-5f93f1da8d4b"
      },
      "source": [
        "classificador.load_state_dict(state_dict)"
      ],
      "execution_count": null,
      "outputs": [
        {
          "output_type": "execute_result",
          "data": {
            "text/plain": [
              "<All keys matched successfully>"
            ]
          },
          "metadata": {
            "tags": []
          },
          "execution_count": 38
        }
      ]
    },
    {
      "cell_type": "code",
      "metadata": {
        "id": "ql4c2vVyhhL2",
        "colab_type": "code",
        "colab": {
          "base_uri": "https://localhost:8080/",
          "height": 165
        },
        "outputId": "7c100998-d286-4069-91a8-2e81ea23af1b"
      },
      "source": [
        ""
      ],
      "execution_count": null,
      "outputs": [
        {
          "output_type": "error",
          "ename": "AttributeError",
          "evalue": "ignored",
          "traceback": [
            "\u001b[0;31m---------------------------------------------------------------------------\u001b[0m",
            "\u001b[0;31mAttributeError\u001b[0m                            Traceback (most recent call last)",
            "\u001b[0;32m<ipython-input-39-30013ba825b7>\u001b[0m in \u001b[0;36m<module>\u001b[0;34m()\u001b[0m\n\u001b[0;32m----> 1\u001b[0;31m \u001b[0mprevisores\u001b[0m \u001b[0;34m=\u001b[0m \u001b[0mpd\u001b[0m\u001b[0;34m.\u001b[0m\u001b[0mread_\u001b[0m\u001b[0;34m\u001b[0m\u001b[0;34m\u001b[0m\u001b[0m\n\u001b[0m",
            "\u001b[0;31mAttributeError\u001b[0m: module 'pandas' has no attribute 'read_'"
          ]
        }
      ]
    },
    {
      "cell_type": "code",
      "metadata": {
        "id": "-xsOpBhLkqvo",
        "colab_type": "code",
        "colab": {}
      },
      "source": [
        ""
      ],
      "execution_count": null,
      "outputs": []
    }
  ]
}