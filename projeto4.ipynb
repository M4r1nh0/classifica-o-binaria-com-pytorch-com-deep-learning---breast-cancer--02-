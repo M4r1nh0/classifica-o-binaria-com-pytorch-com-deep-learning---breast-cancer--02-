{
  "nbformat": 4,
  "nbformat_minor": 0,
  "metadata": {
    "colab": {
      "name": "projeto4",
      "provenance": [],
      "collapsed_sections": [],
      "authorship_tag": "ABX9TyOKzMphPHQiR9II0pMCZVY+",
      "include_colab_link": true
    },
    "kernelspec": {
      "name": "python3",
      "display_name": "Python 3"
    }
  },
  "cells": [
    {
      "cell_type": "markdown",
      "metadata": {
        "id": "view-in-github",
        "colab_type": "text"
      },
      "source": [
        "<a href=\"https://colab.research.google.com/github/M4r1nh0/classifica-o-binaria-com-pytorch-com-deep-learning---breast-cancer--02-/blob/master/projeto4.ipynb\" target=\"_parent\"><img src=\"https://colab.research.google.com/assets/colab-badge.svg\" alt=\"Open In Colab\"/></a>"
      ]
    },
    {
      "cell_type": "code",
      "metadata": {
        "id": "-zg_MNORTvva",
        "colab_type": "code",
        "colab": {
          "base_uri": "https://localhost:8080/",
          "height": 377
        },
        "outputId": "1b4a158e-a5f3-4f73-9849-f86c012dc7bf"
      },
      "source": [
        "!pip install 'torch==1.4.0'\n",
        "!pip install 'skorch==0.7.0'"
      ],
      "execution_count": null,
      "outputs": [
        {
          "output_type": "stream",
          "text": [
            "Collecting torch==1.4.0\n",
            "\u001b[?25l  Downloading https://files.pythonhosted.org/packages/24/19/4804aea17cd136f1705a5e98a00618cb8f6ccc375ad8bfa437408e09d058/torch-1.4.0-cp36-cp36m-manylinux1_x86_64.whl (753.4MB)\n",
            "\u001b[K     |████████████████████████████████| 753.4MB 18kB/s \n",
            "\u001b[31mERROR: torchvision 0.7.0+cu101 has requirement torch==1.6.0, but you'll have torch 1.4.0 which is incompatible.\u001b[0m\n",
            "\u001b[?25hInstalling collected packages: torch\n",
            "  Found existing installation: torch 1.6.0+cu101\n",
            "    Uninstalling torch-1.6.0+cu101:\n",
            "      Successfully uninstalled torch-1.6.0+cu101\n",
            "Successfully installed torch-1.4.0\n",
            "Collecting skorch==0.7.0\n",
            "\u001b[?25l  Downloading https://files.pythonhosted.org/packages/fb/1e/cc4e1f23cd1faab06672f309e0857294aaa80c5f84670f4d3d19b08ab10b/skorch-0.7.0-py3-none-any.whl (105kB)\n",
            "\u001b[K     |████████████████████████████████| 112kB 2.6MB/s \n",
            "\u001b[?25hRequirement already satisfied: numpy>=1.13.3 in /usr/local/lib/python3.6/dist-packages (from skorch==0.7.0) (1.18.5)\n",
            "Requirement already satisfied: tqdm>=4.14.0 in /usr/local/lib/python3.6/dist-packages (from skorch==0.7.0) (4.41.1)\n",
            "Requirement already satisfied: scipy>=1.1.0 in /usr/local/lib/python3.6/dist-packages (from skorch==0.7.0) (1.4.1)\n",
            "Requirement already satisfied: scikit-learn>=0.19.1 in /usr/local/lib/python3.6/dist-packages (from skorch==0.7.0) (0.22.2.post1)\n",
            "Requirement already satisfied: tabulate>=0.7.7 in /usr/local/lib/python3.6/dist-packages (from skorch==0.7.0) (0.8.7)\n",
            "Requirement already satisfied: joblib>=0.11 in /usr/local/lib/python3.6/dist-packages (from scikit-learn>=0.19.1->skorch==0.7.0) (0.16.0)\n",
            "Installing collected packages: skorch\n",
            "Successfully installed skorch-0.7.0\n"
          ],
          "name": "stdout"
        }
      ]
    },
    {
      "cell_type": "code",
      "metadata": {
        "id": "wqsVqod5T8qj",
        "colab_type": "code",
        "colab": {}
      },
      "source": [
        "import skorch\n",
        "import torch"
      ],
      "execution_count": null,
      "outputs": []
    },
    {
      "cell_type": "code",
      "metadata": {
        "id": "_DtuVtZmUByw",
        "colab_type": "code",
        "colab": {
          "base_uri": "https://localhost:8080/",
          "height": 35
        },
        "outputId": "6a7bacdc-38ce-4868-ad92-6715a271a3d5"
      },
      "source": [
        "torch.__version__\n",
        "#skorch.__version__"
      ],
      "execution_count": null,
      "outputs": [
        {
          "output_type": "execute_result",
          "data": {
            "application/vnd.google.colaboratory.intrinsic+json": {
              "type": "string"
            },
            "text/plain": [
              "'1.4.0'"
            ]
          },
          "metadata": {
            "tags": []
          },
          "execution_count": 51
        }
      ]
    },
    {
      "cell_type": "code",
      "metadata": {
        "id": "UV5fszRxUHIQ",
        "colab_type": "code",
        "colab": {}
      },
      "source": [
        "import pandas as pd\n",
        "import numpy as np\n",
        "import seaborn as sns\n",
        "from sklearn.model_selection import train_test_split\n",
        "import torch.nn as nn \n",
        "from sklearn.metrics import accuracy_score, confusion_matrix\n",
        "\n"
      ],
      "execution_count": null,
      "outputs": []
    },
    {
      "cell_type": "code",
      "metadata": {
        "id": "3ni31ow_UozG",
        "colab_type": "code",
        "colab": {
          "base_uri": "https://localhost:8080/",
          "height": 34
        },
        "outputId": "93e068f4-c371-4357-d3b5-b30a3063e883"
      },
      "source": [
        "np.random.seed(123)\n",
        "torch.manual_seed(123)"
      ],
      "execution_count": null,
      "outputs": [
        {
          "output_type": "execute_result",
          "data": {
            "text/plain": [
              "<torch._C.Generator at 0x7fc30afb3b30>"
            ]
          },
          "metadata": {
            "tags": []
          },
          "execution_count": 53
        }
      ]
    },
    {
      "cell_type": "code",
      "metadata": {
        "id": "mgLrc3pjUzp1",
        "colab_type": "code",
        "colab": {}
      },
      "source": [
        "previsores = pd.read_csv('entradas_breast.csv')\n",
        "classe = pd.read_csv('saidas_breast.csv')"
      ],
      "execution_count": null,
      "outputs": []
    },
    {
      "cell_type": "markdown",
      "metadata": {
        "id": "6X_3-eB1VRHR",
        "colab_type": "text"
      },
      "source": [
        ""
      ]
    },
    {
      "cell_type": "code",
      "metadata": {
        "id": "kK0f4NgvVERD",
        "colab_type": "code",
        "colab": {}
      },
      "source": [
        "previsores = torch.tensor(np.array(previsores),dtype=torch.float)\n",
        "classe = torch.tensor(np.array(classe), dtype=torch.float)"
      ],
      "execution_count": null,
      "outputs": []
    },
    {
      "cell_type": "code",
      "metadata": {
        "id": "Xh-hFZO4VPRO",
        "colab_type": "code",
        "colab": {
          "base_uri": "https://localhost:8080/",
          "height": 34
        },
        "outputId": "b2ce66f1-18da-4e71-fc05-529c731e917a"
      },
      "source": [
        "type(previsores)"
      ],
      "execution_count": null,
      "outputs": [
        {
          "output_type": "execute_result",
          "data": {
            "text/plain": [
              "torch.Tensor"
            ]
          },
          "metadata": {
            "tags": []
          },
          "execution_count": 57
        }
      ]
    },
    {
      "cell_type": "code",
      "metadata": {
        "id": "fO0IbRQ3VQq5",
        "colab_type": "code",
        "colab": {}
      },
      "source": [
        "train_loader = torch.utils.data.DataLoader(torch.utils.data.TensorDataset(previsores, classe),batch_size=10, shuffle=True)"
      ],
      "execution_count": null,
      "outputs": []
    },
    {
      "cell_type": "code",
      "metadata": {
        "id": "ngZFyxDuWY2M",
        "colab_type": "code",
        "colab": {}
      },
      "source": [
        "class classificador_torch(nn.Module):\n",
        "  def __init__(self):\n",
        "    super().__init__()\n",
        "    self.dense0 = nn.Linear(30, 8)\n",
        "    torch.nn.init.normal_(self.dense0.weight, mean=0.0, std=0.5)\n",
        "    self.dense1 = nn.Linear(8, 8)\n",
        "    torch.nn.init.normal_(self.dense1.weight, mean=0.0, std=0.5)\n",
        "    self.dense2 = nn.Linear(8, 1)\n",
        "    self.activation = nn.ReLU()\n",
        "    self.dropout = nn.Dropout(0.2)\n",
        "    self.output = nn.Sigmoid()\n",
        "\n",
        "  def forward(self, X):\n",
        "    X = self.dense0(X)\n",
        "    X = self.activation(X)\n",
        "    X = self.dropout(X)\n",
        "    X = self.dense1(X)\n",
        "    X = self.activation(X)\n",
        "    X = self.dropout(X)\n",
        "    X = self.dense2(X)\n",
        "    X = self.output(X)\n",
        "    return X\n"
      ],
      "execution_count": null,
      "outputs": []
    },
    {
      "cell_type": "code",
      "metadata": {
        "id": "GYGG22pdYTAm",
        "colab_type": "code",
        "colab": {}
      },
      "source": [
        "classificador = classificador_torch()"
      ],
      "execution_count": null,
      "outputs": []
    },
    {
      "cell_type": "code",
      "metadata": {
        "id": "BeEXEp0kYixN",
        "colab_type": "code",
        "colab": {}
      },
      "source": [
        "criterion = nn.BCELoss()\n",
        "optimizer = torch.optim.Adam(classificador.parameters(), lr= 0.001, weight_decay=0.0001)"
      ],
      "execution_count": null,
      "outputs": []
    },
    {
      "cell_type": "code",
      "metadata": {
        "id": "MHE5r4fUaGiR",
        "colab_type": "code",
        "colab": {
          "base_uri": "https://localhost:8080/",
          "height": 1000
        },
        "outputId": "2604ead5-5500-4c3b-b661-4143e0eb1246"
      },
      "source": [
        "for epoch in range(100):\n",
        "  running_loss = 0.\n",
        "\n",
        "  for data in train_loader:\n",
        "    inputs, labels = data\n",
        "    optimizer.zero_grad()\n",
        "    \n",
        "    outputs = classificador(inputs)\n",
        "    loss = criterion(outputs, labels)\n",
        "    loss.backward()\n",
        "    optimizer.step()\n",
        "\n",
        "    running_loss += loss.item()\n",
        "\n",
        "  print(\"epoca %3d:  perda %.5f\"% (epoch+1,running_loss/len(train_loader)))"
      ],
      "execution_count": null,
      "outputs": [
        {
          "output_type": "stream",
          "text": [
            "epoca   1:  perda 13.38004\n",
            "epoca   2:  perda 12.50338\n",
            "epoca   3:  perda 12.59775\n",
            "epoca   4:  perda 12.79300\n",
            "epoca   5:  perda 13.24940\n",
            "epoca   6:  perda 13.06327\n",
            "epoca   7:  perda 12.39310\n",
            "epoca   8:  perda 11.71273\n",
            "epoca   9:  perda 12.21542\n",
            "epoca  10:  perda 12.32327\n",
            "epoca  11:  perda 11.94399\n",
            "epoca  12:  perda 11.58765\n",
            "epoca  13:  perda 11.29416\n",
            "epoca  14:  perda 11.47558\n",
            "epoca  15:  perda 12.03560\n",
            "epoca  16:  perda 11.46815\n",
            "epoca  17:  perda 9.98088\n",
            "epoca  18:  perda 10.97482\n",
            "epoca  19:  perda 10.89189\n",
            "epoca  20:  perda 10.95137\n",
            "epoca  21:  perda 11.19680\n",
            "epoca  22:  perda 10.99099\n",
            "epoca  23:  perda 10.52222\n",
            "epoca  24:  perda 11.11779\n",
            "epoca  25:  perda 10.68309\n",
            "epoca  26:  perda 11.43517\n",
            "epoca  27:  perda 9.84482\n",
            "epoca  28:  perda 10.93606\n",
            "epoca  29:  perda 10.85919\n",
            "epoca  30:  perda 10.18115\n",
            "epoca  31:  perda 10.44960\n",
            "epoca  32:  perda 10.24107\n",
            "epoca  33:  perda 10.43825\n",
            "epoca  34:  perda 10.36000\n",
            "epoca  35:  perda 10.53449\n",
            "epoca  36:  perda 10.40131\n",
            "epoca  37:  perda 10.71957\n",
            "epoca  38:  perda 10.30467\n",
            "epoca  39:  perda 10.42226\n",
            "epoca  40:  perda 10.25838\n",
            "epoca  41:  perda 10.41830\n",
            "epoca  42:  perda 10.34293\n",
            "epoca  43:  perda 10.46919\n",
            "epoca  44:  perda 10.39791\n",
            "epoca  45:  perda 10.40201\n",
            "epoca  46:  perda 10.29008\n",
            "epoca  47:  perda 10.36478\n",
            "epoca  48:  perda 10.32121\n",
            "epoca  49:  perda 10.06287\n",
            "epoca  50:  perda 10.27146\n",
            "epoca  51:  perda 10.19777\n",
            "epoca  52:  perda 10.17021\n",
            "epoca  53:  perda 10.25497\n",
            "epoca  54:  perda 10.65966\n",
            "epoca  55:  perda 10.29018\n",
            "epoca  56:  perda 10.14683\n",
            "epoca  57:  perda 10.28934\n",
            "epoca  58:  perda 10.20409\n",
            "epoca  59:  perda 10.25081\n",
            "epoca  60:  perda 10.20381\n",
            "epoca  61:  perda 10.29493\n",
            "epoca  62:  perda 10.17049\n",
            "epoca  63:  perda 10.24900\n",
            "epoca  64:  perda 10.20902\n",
            "epoca  65:  perda 10.41390\n",
            "epoca  66:  perda 10.30643\n",
            "epoca  67:  perda 10.27346\n",
            "epoca  68:  perda 10.24505\n",
            "epoca  69:  perda 10.30062\n",
            "epoca  70:  perda 10.27531\n",
            "epoca  71:  perda 10.10426\n",
            "epoca  72:  perda 10.25690\n",
            "epoca  73:  perda 10.20268\n",
            "epoca  74:  perda 10.34719\n",
            "epoca  75:  perda 10.39119\n",
            "epoca  76:  perda 10.35044\n",
            "epoca  77:  perda 10.51345\n",
            "epoca  78:  perda 10.36888\n",
            "epoca  79:  perda 10.24921\n",
            "epoca  80:  perda 10.29926\n",
            "epoca  81:  perda 10.25300\n",
            "epoca  82:  perda 10.16573\n",
            "epoca  83:  perda 10.18749\n",
            "epoca  84:  perda 10.20955\n",
            "epoca  85:  perda 10.40862\n",
            "epoca  86:  perda 10.16883\n",
            "epoca  87:  perda 10.19544\n",
            "epoca  88:  perda 10.16553\n",
            "epoca  89:  perda 10.15671\n",
            "epoca  90:  perda 10.28978\n",
            "epoca  91:  perda 10.20487\n",
            "epoca  92:  perda 10.20343\n",
            "epoca  93:  perda 10.33668\n",
            "epoca  94:  perda 10.11891\n",
            "epoca  95:  perda 10.28596\n",
            "epoca  96:  perda 10.20601\n",
            "epoca  97:  perda 10.19884\n",
            "epoca  98:  perda 10.20057\n",
            "epoca  99:  perda 10.15663\n",
            "epoca 100:  perda 10.20344\n"
          ],
          "name": "stdout"
        }
      ]
    },
    {
      "cell_type": "code",
      "metadata": {
        "id": "_w7kEkChbCBg",
        "colab_type": "code",
        "colab": {}
      },
      "source": [
        "novo = torch.tensor([[15.80, 8.34, 118, 900, 0.10, 0.26, 0.08, 0.134, 0.178,\n",
        "                  0.20, 0.05, 1098, 0.87, 4500, 145.2, 0.005, 0.04, 0.05, 0.015,\n",
        "                  0.03, 0.007, 23.15, 16.64, 178.5, 2018, 0.14, 0.185,\n",
        "                  0.84, 158, 0.363]], dtype=torch.float)"
      ],
      "execution_count": null,
      "outputs": []
    },
    {
      "cell_type": "code",
      "metadata": {
        "id": "XBDU0fo4bfJd",
        "colab_type": "code",
        "colab": {
          "base_uri": "https://localhost:8080/",
          "height": 153
        },
        "outputId": "69b763ce-549a-42a3-b378-a797cf1e9432"
      },
      "source": [
        "classificador.eval()"
      ],
      "execution_count": null,
      "outputs": [
        {
          "output_type": "execute_result",
          "data": {
            "text/plain": [
              "classificador_torch(\n",
              "  (dense0): Linear(in_features=30, out_features=8, bias=True)\n",
              "  (dense1): Linear(in_features=8, out_features=8, bias=True)\n",
              "  (dense2): Linear(in_features=8, out_features=1, bias=True)\n",
              "  (activation): ReLU()\n",
              "  (dropout): Dropout(p=0.2, inplace=False)\n",
              "  (output): Sigmoid()\n",
              ")"
            ]
          },
          "metadata": {
            "tags": []
          },
          "execution_count": 64
        }
      ]
    },
    {
      "cell_type": "code",
      "metadata": {
        "id": "nYlhM8GobmPs",
        "colab_type": "code",
        "colab": {}
      },
      "source": [
        "previsão = classificador(novo)"
      ],
      "execution_count": null,
      "outputs": []
    },
    {
      "cell_type": "code",
      "metadata": {
        "id": "am-_3EFRbqVW",
        "colab_type": "code",
        "colab": {}
      },
      "source": [
        "previsão = previsão.detach()"
      ],
      "execution_count": null,
      "outputs": []
    },
    {
      "cell_type": "code",
      "metadata": {
        "id": "eay7GKJ_bwTQ",
        "colab_type": "code",
        "colab": {
          "base_uri": "https://localhost:8080/",
          "height": 34
        },
        "outputId": "bcf723d3-91f8-4109-b4d5-0ac48101c8c5"
      },
      "source": [
        "previsão"
      ],
      "execution_count": null,
      "outputs": [
        {
          "output_type": "execute_result",
          "data": {
            "text/plain": [
              "tensor([[1.]])"
            ]
          },
          "metadata": {
            "tags": []
          },
          "execution_count": 67
        }
      ]
    },
    {
      "cell_type": "code",
      "metadata": {
        "id": "9yDQWL5MbxT6",
        "colab_type": "code",
        "colab": {}
      },
      "source": [
        "previsão = previsão.numpy()"
      ],
      "execution_count": null,
      "outputs": []
    },
    {
      "cell_type": "code",
      "metadata": {
        "id": "bw8fjCvjb53G",
        "colab_type": "code",
        "colab": {
          "base_uri": "https://localhost:8080/",
          "height": 34
        },
        "outputId": "e007f97d-cd06-4767-ffb5-775d5eab99b0"
      },
      "source": [
        "previsão"
      ],
      "execution_count": null,
      "outputs": [
        {
          "output_type": "execute_result",
          "data": {
            "text/plain": [
              "array([[1.]], dtype=float32)"
            ]
          },
          "metadata": {
            "tags": []
          },
          "execution_count": 69
        }
      ]
    },
    {
      "cell_type": "code",
      "metadata": {
        "id": "InUSjlN2b7sl",
        "colab_type": "code",
        "colab": {}
      },
      "source": [
        "previsão = (previsão > 0.5)"
      ],
      "execution_count": null,
      "outputs": []
    },
    {
      "cell_type": "code",
      "metadata": {
        "id": "W_x3RZvxcB87",
        "colab_type": "code",
        "colab": {
          "base_uri": "https://localhost:8080/",
          "height": 34
        },
        "outputId": "a0005558-f83e-40e4-dfa3-1d7c6b534881"
      },
      "source": [
        "previsão"
      ],
      "execution_count": null,
      "outputs": [
        {
          "output_type": "execute_result",
          "data": {
            "text/plain": [
              "array([[ True]])"
            ]
          },
          "metadata": {
            "tags": []
          },
          "execution_count": 46
        }
      ]
    },
    {
      "cell_type": "code",
      "metadata": {
        "id": "ZMCeBEfhcCph",
        "colab_type": "code",
        "colab": {
          "base_uri": "https://localhost:8080/",
          "height": 1000
        },
        "outputId": "8e1ad0d6-9160-4ddc-c236-492edbf953fe"
      },
      "source": [
        "classificador.state_dict()"
      ],
      "execution_count": null,
      "outputs": [
        {
          "output_type": "execute_result",
          "data": {
            "text/plain": [
              "OrderedDict([('dense0.weight',\n",
              "              tensor([[-9.5399e-01,  5.0276e-01,  7.9644e-01,  3.0661e-01,  5.7747e-01,\n",
              "                       -2.1210e-01,  1.0039e-01,  4.5799e-01, -6.1248e-01,  5.3102e-01,\n",
              "                       -2.6070e-01, -9.7058e-02,  8.8793e-01, -9.0941e-02, -7.4881e-05,\n",
              "                       -1.1193e-01, -5.5757e-04, -3.4775e-05, -1.4898e-02, -1.0758e-07,\n",
              "                       -6.2589e-01, -2.3588e-01, -1.6525e-02,  7.3659e-01, -7.3633e-01,\n",
              "                        6.1362e-01,  5.5634e-01,  1.8103e-01,  6.2705e-01,  4.9417e-01],\n",
              "                      [ 5.2209e-01,  3.0962e-01,  9.1058e-01, -1.1141e-02,  7.4908e-03,\n",
              "                        2.5305e-03,  2.2596e-01, -5.9632e-01, -3.5600e-01, -1.0434e-02,\n",
              "                        5.1165e-01,  2.2529e-01, -8.4551e-01,  3.9808e-01, -2.3326e-07,\n",
              "                        3.1248e-02,  7.9267e-04,  6.1902e-06,  3.2254e-02, -6.6710e-08,\n",
              "                       -8.3435e-01,  6.1840e-01, -1.4277e-01, -8.3648e-02, -1.1169e+00,\n",
              "                       -2.3251e-01,  4.2686e-01, -4.8782e-01,  2.6465e-01,  3.3227e-01],\n",
              "                      [ 3.3655e-01, -9.3540e-01, -3.0634e-01, -8.1201e-01,  1.6350e-01,\n",
              "                       -3.9700e-01,  1.4491e-01, -2.3599e-02,  4.1553e-02,  3.1842e-01,\n",
              "                       -1.1110e-01, -4.1023e-01,  1.4870e-01,  1.1507e+00, -1.1752e-03,\n",
              "                       -1.2830e-02, -6.0155e-02, -6.7974e-03, -2.9556e-01, -3.4886e-06,\n",
              "                       -9.0068e-03, -1.1740e-02,  4.6696e-01, -2.9704e-01, -5.3223e-01,\n",
              "                        2.6689e-01, -9.6295e-02,  4.1338e-01,  1.7475e-01,  5.1126e-01],\n",
              "                      [-2.1778e-01, -4.0178e-01,  1.3651e-01, -1.0593e+00,  5.2872e-03,\n",
              "                        4.5277e-03,  2.5085e-03, -5.9469e-02, -4.2713e-01,  2.2844e-01,\n",
              "                        9.8453e-02,  4.6434e-01, -8.8801e-01, -4.9062e-01,  1.4652e-07,\n",
              "                       -2.9912e-02,  1.0113e-03, -9.3625e-06,  6.6927e-01,  2.0862e-08,\n",
              "                       -8.2980e-01, -4.7726e-02,  3.3161e-01,  9.0924e-01,  1.9887e-01,\n",
              "                       -4.5170e-01,  5.0520e-01,  4.4438e-01,  1.9044e-01, -7.8912e-01],\n",
              "                      [-1.0137e+00,  4.2781e-01, -3.3310e-01,  4.7855e-01, -1.9363e-03,\n",
              "                       -2.5271e-02,  1.8604e-02,  3.6626e-04,  6.2587e-01,  1.9627e-01,\n",
              "                        6.1094e-02,  1.8529e-01, -7.4342e-01, -5.0714e-01, -5.4925e-20,\n",
              "                        3.2250e-06,  4.1001e-05,  3.3414e-09,  2.6763e-02,  3.2539e-22,\n",
              "                       -3.6662e-03, -6.6605e-01, -7.7261e-01,  2.8762e-01,  3.3116e-01,\n",
              "                        2.3190e-01,  5.8557e-01,  2.3918e-01, -4.1578e-02, -2.0287e-03],\n",
              "                      [ 3.7013e-01,  1.0441e-02, -8.7330e-02,  4.6778e-01,  3.4074e-01,\n",
              "                       -2.3783e-02,  1.4398e-01, -9.5352e-02,  3.0079e-02,  3.0790e-01,\n",
              "                       -7.2030e-02, -8.6410e-02, -7.6751e-01,  3.5458e-01, -1.1088e-08,\n",
              "                       -6.2801e-04, -2.3203e-03, -1.0011e-05, -1.4001e-04, -1.5214e-08,\n",
              "                       -3.0337e-01, -5.3138e-01, -2.5078e-01, -9.7010e-02, -1.5537e-01,\n",
              "                        2.1620e-01,  3.3693e-03, -4.3304e-02,  8.9232e-02,  1.3282e-02],\n",
              "                      [-3.2518e-01, -5.9118e-01,  2.5184e-01,  5.0552e-01,  5.3399e-02,\n",
              "                        1.7354e-01,  8.1067e-01, -1.0925e+00,  1.8133e-01,  4.9621e-01,\n",
              "                       -1.8395e-01,  4.8120e-01,  8.0297e-01, -7.2268e-01,  8.1377e-09,\n",
              "                        6.6594e-02, -1.0265e-03,  2.2755e-06, -8.4748e-02, -1.6180e-13,\n",
              "                        6.8908e-01, -7.9493e-01,  3.2743e-01,  1.1840e-01, -6.1477e-01,\n",
              "                       -1.8862e-01, -3.2882e-01, -1.8030e-01,  4.6524e-01, -1.1453e+00],\n",
              "                      [ 1.7836e-01,  1.0363e+00,  6.7293e-01, -3.0052e-02,  4.7711e-01,\n",
              "                       -1.7759e-01, -7.4679e-02,  1.2480e-01, -1.4566e-01, -5.0928e-01,\n",
              "                        6.0040e-01, -1.6122e-01,  1.8082e-01,  3.2793e-01,  1.7744e-04,\n",
              "                        3.1104e-02,  4.2356e-04,  2.3541e-04,  6.3189e-02,  8.3978e-06,\n",
              "                        4.1881e-01,  2.8870e-02,  1.1586e-01, -7.9314e-02,  1.1002e-01,\n",
              "                       -5.6714e-02,  2.9675e-02,  2.7142e-01,  6.7183e-02, -7.9094e-01]])),\n",
              "             ('dense0.bias',\n",
              "              tensor([ 0.0071,  0.0256, -0.2590, -0.0503,  0.1106,  0.1466, -0.0233, -0.1387])),\n",
              "             ('dense1.weight',\n",
              "              tensor([[-4.4259e-02,  2.8272e-01,  1.8232e-01,  2.9980e-01, -5.0693e-01,\n",
              "                       -4.3517e-02,  6.6593e-01, -1.2756e+00],\n",
              "                      [-2.7770e-01, -8.1736e-01,  1.1592e-01, -1.1604e-01, -2.7823e-01,\n",
              "                        6.9638e-02,  1.0819e+00, -1.0830e+00],\n",
              "                      [ 4.9884e-01, -3.9121e-01,  3.1009e-01,  2.3134e-01,  4.0505e-02,\n",
              "                       -1.0250e+00, -4.4908e-01, -1.8006e-01],\n",
              "                      [ 6.1657e-01, -4.3289e-01, -1.0398e-02, -4.3169e-01,  8.2514e-05,\n",
              "                       -3.9600e-02, -4.4148e-01,  9.9339e-02],\n",
              "                      [ 1.8066e-01,  4.7966e-01, -3.4800e-01, -3.9011e-01,  7.9571e-01,\n",
              "                        7.8245e-01, -1.0427e-01,  4.4784e-01],\n",
              "                      [ 3.8093e-01,  1.3288e-01, -3.7136e-01,  1.8854e-02,  1.1042e-01,\n",
              "                        3.2432e-02, -2.6375e-01, -1.0285e+00],\n",
              "                      [-1.3167e-01,  2.1483e-01,  1.4606e-01, -1.1325e-01, -8.4724e-02,\n",
              "                        5.6479e-01, -7.3253e-02,  1.3934e-01],\n",
              "                      [ 3.5239e-01, -4.1793e-01, -3.7968e-02, -3.4929e-01,  6.5664e-02,\n",
              "                        2.4209e-01,  3.7439e-01,  2.0721e-01]])),\n",
              "             ('dense1.bias',\n",
              "              tensor([ 0.0200,  0.1029, -0.5055,  0.0133,  0.3084,  0.2911,  0.1514,  0.1326])),\n",
              "             ('dense2.weight',\n",
              "              tensor([[ 0.0273,  0.3267, -0.0494,  0.0607,  0.4028,  0.4018,  0.2388,  0.2561]])),\n",
              "             ('dense2.bias', tensor([0.4070]))])"
            ]
          },
          "metadata": {
            "tags": []
          },
          "execution_count": 71
        }
      ]
    },
    {
      "cell_type": "code",
      "metadata": {
        "id": "6bTExb7BcKjq",
        "colab_type": "code",
        "colab": {}
      },
      "source": [
        "torch.save(classificador.state_dict(), 'checkpoint.pth')"
      ],
      "execution_count": null,
      "outputs": []
    },
    {
      "cell_type": "code",
      "metadata": {
        "id": "caQvD8f6cU87",
        "colab_type": "code",
        "colab": {}
      },
      "source": [
        ""
      ],
      "execution_count": null,
      "outputs": []
    }
  ]
}